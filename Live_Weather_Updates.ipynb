{
 "cells": [
  {
   "cell_type": "markdown",
   "id": "a417eeac",
   "metadata": {},
   "source": [
    "<h1> How to Get Live Weather Updates using Python? </h1>\n",
    "\n",
    "There are many ways to get live weather conditions for any city using the Python programming language. You can either use the weather APIs provided by third-party apps or you can also scrape the live weather data from a particular city.\n",
    "\n",
    "If you are using weather APIs provided by any platform, you need to connect to their paid services to work with the weather APIs. But if you use your web scraping skills, it will be free. So in the section below, I’m going to walk you through how to get live weather updates from any city using Python.\n",
    "\n",
    "<h2>Live Weather Updates using Python</h2>\n",
    "\n",
    "To get the live weather conditions of any city using Python, you first have to install the BeautifulSoup library in Python. You can easily install this Python library in your system by using the pip command:\n",
    "\n",
    "After installing this library, you can now start with this task by importing the necessary Python libraries that we need for this task. After importing the libraries we need to scrape the weather updates of a city by searching about it on Google. Below is how we can do it using Python"
   ]
  },
  {
   "cell_type": "code",
   "execution_count": null,
   "id": "dc05a110",
   "metadata": {},
   "outputs": [],
   "source": [
    "from bs4 import BeautifulSoup\n",
    "import requests\n",
    "headers = {'User-Agent': 'Mozilla/5.0 (Windows NT 10.0; Win64; x64) AppleWebKit/537.36 (KHTML, like Gecko) Chrome/58.0.3029.110 Safari/537.3'}\n",
    "\n",
    "def weather(city):\n",
    "    city=city.replace(\" \",\"+\")\n",
    "    res = requests.get(f'https://www.google.com/search?q={city}&oq={city}&aqs=chrome.0.35i39l2j0l4j46j69i60.6128j1j7&sourceid=chrome&ie=UTF-8',headers=headers)\n",
    "    print(\"Searching......\\n\")\n",
    "    soup = BeautifulSoup(res.text,'html.parser')   \n",
    "    location = soup.select('#wob_loc')[0].getText().strip()  \n",
    "    time = soup.select('#wob_dts')[0].getText().strip()       \n",
    "    info = soup.select('#wob_dc')[0].getText().strip() \n",
    "    weather = soup.select('#wob_tm')[0].getText().strip()\n",
    "    print(location)\n",
    "    print(time)\n",
    "    print(info)\n",
    "    print(weather+\"°C\") \n",
    "\n",
    "city=input(\"Enter the Name of Any City >>  \")\n",
    "city=city+\" weather\"\n",
    "weather(city)"
   ]
  },
  {
   "cell_type": "code",
   "execution_count": null,
   "id": "45d30469",
   "metadata": {},
   "outputs": [],
   "source": []
  }
 ],
 "metadata": {
  "kernelspec": {
   "display_name": "Python 3",
   "language": "python",
   "name": "python3"
  },
  "language_info": {
   "codemirror_mode": {
    "name": "ipython",
    "version": 3
   },
   "file_extension": ".py",
   "mimetype": "text/x-python",
   "name": "python",
   "nbconvert_exporter": "python",
   "pygments_lexer": "ipython3",
   "version": "3.8.8"
  }
 },
 "nbformat": 4,
 "nbformat_minor": 5
}
